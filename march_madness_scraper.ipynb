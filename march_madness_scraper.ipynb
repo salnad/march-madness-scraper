{
 "cells": [
  {
   "cell_type": "code",
   "execution_count": 228,
   "metadata": {},
   "outputs": [],
   "source": [
    "import pandas as pd\n",
    "import numpy as np\n",
    "from bs4 import BeautifulSoup\n",
    "import requests"
   ]
  },
  {
   "cell_type": "code",
   "execution_count": 229,
   "metadata": {},
   "outputs": [
    {
     "name": "stdout",
     "output_type": "stream",
     "text": [
      "finished downloading rankings of top 100 teams\n"
     ]
    }
   ],
   "source": [
    "# SCRIPT TO GET A DATAFRAME OF RANKINGS OF TOP X TEAMS, BY NCAA RANKING\n",
    "\n",
    "LOWER_BOUND = 100 # the number of teams we get data from\n",
    "\n",
    "rankings_page = requests.get('https://www.ncaa.com/rankings/basketball-men/d1/ncaa-mens-basketball-net-rankings')\n",
    "rankings = BeautifulSoup(rankings_page.text, 'html5lib')\n",
    "table = rankings.select('.rankings-content > table')[0]\n",
    "table_rows = table.find_all('tr')\n",
    "table_column_headers = table.find_all('th')\n",
    "for i in range(len(table_column_headers)):\n",
    "    table_column_headers[i] = table_column_headers[i].text\n",
    "l = []\n",
    "for tr in table_rows:\n",
    "    td = tr.find_all('td')\n",
    "    row = [tr.text for tr in td]\n",
    "    l.append(row)\n",
    "data = pd.DataFrame(l, columns=table_column_headers)\n",
    "data.set_index('School',inplace=True)\n",
    "data = data.iloc[1:LOWER_BOUND + 1]\n",
    "print(f'finished downloading rankings of top {LOWER_BOUND} teams')"
   ]
  },
  {
   "cell_type": "code",
   "execution_count": 230,
   "metadata": {},
   "outputs": [],
   "source": [
    "# IDS FOR PAGES OF TEAM STATS NCAA TRACKS\n",
    "ids = [168,217,931,519,616,609,602,606,622,152,153,518,215,145,147,146,151,857,286,150,633,638,149,148,640,642,859,214,216,474,625]"
   ]
  },
  {
   "cell_type": "code",
   "execution_count": 231,
   "metadata": {},
   "outputs": [
    {
     "name": "stdout",
     "output_type": "stream",
     "text": [
      "finished processing won-lost-percentage (168)\n",
      "finished processing turnovers-per-game (217)\n",
      "finished processing turnovers-forced (931)\n",
      "finished processing turnover-margin (519)\n",
      "finished processing total-steals (616)\n",
      "finished processing total-blocks (609)\n",
      "finished processing total-rebounds (602)\n",
      "finished processing total-assists (606)\n",
      "finished processing total-3-point-fgm (622)\n",
      "finished processing three-point-field-goal-percentage (152)\n",
      "finished processing three-point-field-goals-per-game (153)\n",
      "finished processing three-pt-fg-defense (518)\n",
      "finished processing steals-per-game (215)\n",
      "finished processing scoring-offense (145)\n",
      "finished processing scoring-margin (147)\n",
      "finished processing scoring-defense (146)\n",
      "finished processing rebound-margin (151)\n",
      "finished processing offensive-rebounds-per-game (857)\n",
      "finished processing personal-fouls-per-game (286)\n",
      "finished processing free-throw-percentage (150)\n",
      "finished processing free-throws-made (633)\n",
      "finished processing free-throw-attempts (638)\n",
      "finished processing field-goal-percentage-defense (149)\n",
      "finished processing field-goal-percentage (148)\n",
      "finished processing fewest-turnovers (640)\n",
      "finished processing fewest-fouls (642)\n",
      "finished processing defensive-rebounds-per-game (859)\n",
      "finished processing blocked-shots-per-game (214)\n",
      "finished processing assists-per-game (216)\n",
      "finished processing assist-turnover-ratio (474)\n",
      "finished processing 3-pt-field-goal-attempts (625)\n"
     ]
    }
   ],
   "source": [
    "# LOAD DATA FROM EACH TEAM STAT INTO A DATAFRAME, AND JOIN TO data\n",
    "for id in ids:\n",
    "    \n",
    "    l = [] # STORES ROWS OF DATA\n",
    "    name = None # OBJ TO LOOK FOR CURRENT STAT BEING TRACKED\n",
    "    \n",
    "    for i in range(1,8): # GOING THROUGH ALL 7 PAGES\n",
    "        \n",
    "        page = requests.get(f'https://www.ncaa.com/stats/basketball-men/d1/current/team/{id}/p{i}')\n",
    "        soup = BeautifulSoup(page.text, 'html5lib')\n",
    "        table = soup.select('.stats-wrap > table')[0] # SELECT TABLE\n",
    "        \n",
    "        if i == 1: # GETS TABLE HEADINGS (IF ON FIRST PAGE)\n",
    "            name = soup.select('.stats-header__lower__title')[0]\n",
    "            col_headers = table.find_all('th')\n",
    "            for i in range(len(col_headers)):\n",
    "                col_headers[i] = col_headers[i].text\n",
    "        \n",
    "        table_rows = table.find_all('tr') # GET ALL ROWS OF TABLE\n",
    "        for tr in table_rows: # ADD DATA OF ROW INTO L\n",
    "            td = tr.find_all('td')\n",
    "            row = [tr.text for tr in td]\n",
    "            l.append(row)\n",
    "    \n",
    "    data_stats = pd.DataFrame(l, columns=col_headers) # CREATE A DATAFRAME FOR CURRENT STAT\n",
    "    data_stats.set_index('Team', inplace=True) # CHANGE INDEX TO TEAM NAME\n",
    "    data_stats = data_stats[data_stats.index.isin(data.index.tolist())].drop(['Rank'],axis=1) # LIMIT IT TO THE TEAMS IN TOP LOWER_BOUND\n",
    "    data = pd.concat([data,data_stats], axis=1, join='outer', sort=True) # JOIN CURRENT DF TO 'MASTER' DF\n",
    "    \n",
    "    \n",
    "    name_title = name.text.lower().replace(' ', '-') # CLEANING NAME FOR PRINTING\n",
    "    print(f'finished processing {name_title} ({id})')"
   ]
  },
  {
   "cell_type": "code",
   "execution_count": 232,
   "metadata": {},
   "outputs": [
    {
     "name": "stdout",
     "output_type": "stream",
     "text": [
      "finished cleaning, and saved data on the top 100 teams to csv\n"
     ]
    }
   ],
   "source": [
    "# CLEANING AND SAVING DATA\n",
    "data = data.loc[:,~data.columns.duplicated()]\n",
    "data['Rank'] = data['Rank'].astype(int)\n",
    "data = data.sort_values(by=['Rank'])\n",
    "data.to_csv(f'march-madness-data-top-{LOWER_BOUND}.csv')\n",
    "print(f'finished cleaning, and saved data on the top {LOWER_BOUND} teams to csv')"
   ]
  }
 ],
 "metadata": {
  "kernelspec": {
   "display_name": "Python 3.7.4 64-bit ('base': conda)",
   "language": "python",
   "name": "python37464bitbaseconda31ba947ae4e5487e85d981fb675a72d3"
  },
  "language_info": {
   "codemirror_mode": {
    "name": "ipython",
    "version": 3
   },
   "file_extension": ".py",
   "mimetype": "text/x-python",
   "name": "python",
   "nbconvert_exporter": "python",
   "pygments_lexer": "ipython3",
   "version": "3.7.4"
  }
 },
 "nbformat": 4,
 "nbformat_minor": 2
}
